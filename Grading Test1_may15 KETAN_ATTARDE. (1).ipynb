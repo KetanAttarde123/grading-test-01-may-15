{
 "cells": [
  {
   "cell_type": "markdown",
   "id": "ddd91639",
   "metadata": {},
   "source": [
    "# Machine learning -FST-5\n",
    "Grading Test -15-05-2023\n",
    "\n",
    "Note : Read all the questions carefully before answering.\n",
    "\n",
    "Save your jupyter notebook with ur name_date pattern ( shilpa_may15) and upload on github,and submit\n",
    "the github link in the google form provided."
   ]
  },
  {
   "cell_type": "markdown",
   "id": "1544886e",
   "metadata": {},
   "source": [
    "## PART A ( Multiple choice 6*1 = 6)"
   ]
  },
  {
   "cell_type": "raw",
   "id": "5ca4c874",
   "metadata": {},
   "source": [
    "\n",
    "1.A Lambda Function is a _________function\n",
    "\n",
    "a)Small function\n",
    "\n",
    "b)Anonymous function\n",
    "\n",
    "c)Default function\n",
    "\n",
    "d)All of the above"
   ]
  },
  {
   "cell_type": "code",
   "execution_count": null,
   "id": "643b914a",
   "metadata": {},
   "outputs": [],
   "source": [
    "answer :- b)Anonymous function\n"
   ]
  },
  {
   "cell_type": "raw",
   "id": "576cf94f",
   "metadata": {},
   "source": [
    "2.Why would you use the pass statement ?\n",
    "\n",
    "a) Python has the syntactical requirement that code blocks cannot be empty.\n",
    "\n",
    "b)Ignoring (all or) a certain type of Exception\n",
    "\n",
    "c)Testing that code runs properly for a few test values, without caring about the results\n",
    "\n",
    "d) All of the above"
   ]
  },
  {
   "cell_type": "code",
   "execution_count": null,
   "id": "286b17fb",
   "metadata": {},
   "outputs": [],
   "source": [
    "\n",
    "d) All of the above"
   ]
  },
  {
   "cell_type": "raw",
   "id": "2d30d157",
   "metadata": {},
   "source": [
    "3.What is MRO in Python?\n",
    "\n",
    "a)Machine learning repository\n",
    "\n",
    "b)defines the order in which the base classes are searched when executing a method.\n",
    "\n",
    "c)Method over riding\n",
    "\n",
    "d)Method overloading"
   ]
  },
  {
   "cell_type": "code",
   "execution_count": null,
   "id": "b5dac02e",
   "metadata": {},
   "outputs": [],
   "source": [
    "b)defines the order in which the base classes are searched when executing a method.\n"
   ]
  },
  {
   "cell_type": "code",
   "execution_count": null,
   "id": "f459d2c0",
   "metadata": {},
   "outputs": [],
   "source": []
  },
  {
   "cell_type": "raw",
   "id": "4092300f",
   "metadata": {},
   "source": [
    "4.What is self in Python?\n",
    "\n",
    "a)You can access the attributes and methods of the class in python\n",
    "\n",
    "b)Represents the instance of the class\n",
    "\n",
    "c)Binds the attributes with the given argument\n",
    "\n",
    "d) All of the above\n",
    "\n"
   ]
  },
  {
   "cell_type": "code",
   "execution_count": null,
   "id": "e1b44d7f",
   "metadata": {},
   "outputs": [],
   "source": [
    "answer:-b)Represents the instance of the class\n"
   ]
  },
  {
   "cell_type": "raw",
   "id": "333b03b7",
   "metadata": {},
   "source": [
    "5.What is __init__?\n",
    "\n",
    "a)Object of every class\n",
    "\n",
    "b)Constructor method in python\n",
    "\n",
    "c)Only few classes in python have init methods\n",
    "\n",
    "d)None of the above"
   ]
  },
  {
   "cell_type": "code",
   "execution_count": null,
   "id": "210858ca",
   "metadata": {},
   "outputs": [],
   "source": [
    "b)Constructor method in python\n"
   ]
  },
  {
   "cell_type": "code",
   "execution_count": null,
   "id": "6ebe293d",
   "metadata": {},
   "outputs": [],
   "source": [
    "6.What does * indicate in regular expression?\n",
    "\n",
    "a)One or more occurrences\n",
    "\n",
    "b)Zero or more occurrences\n",
    "\n",
    "c)Zero or one occurrences\n",
    "\n",
    "d)Exactly the specified number of occurrences"
   ]
  },
  {
   "cell_type": "code",
   "execution_count": null,
   "id": "9a135195",
   "metadata": {},
   "outputs": [],
   "source": [
    "b)Zero or more occurrences\n"
   ]
  },
  {
   "cell_type": "markdown",
   "id": "f2f1a615",
   "metadata": {},
   "source": [
    "## PART B ( Answer in a line 10*2  = 20)\n"
   ]
  },
  {
   "cell_type": "raw",
   "id": "521ac3d0",
   "metadata": {},
   "source": [
    "\n",
    "6.What is break and continue in python? Explain with example"
   ]
  },
  {
   "cell_type": "code",
   "execution_count": 3,
   "id": "77e1bf78",
   "metadata": {},
   "outputs": [
    {
     "name": "stdout",
     "output_type": "stream",
     "text": [
      "Current Letter : K\n",
      "Current Letter : e\n"
     ]
    }
   ],
   "source": [
    "#Python provides break and continue statements to handle such situations and to have good control on your loop.\n",
    "for letter in 'Ketan':     # First Example\n",
    "   if letter == 't':\n",
    "      break\n",
    "   print ('Current Letter :', letter)\n",
    "\n"
   ]
  },
  {
   "cell_type": "code",
   "execution_count": 5,
   "id": "27e9755a",
   "metadata": {},
   "outputs": [
    {
     "name": "stdout",
     "output_type": "stream",
     "text": [
      "Current Letter : P\n",
      "Current Letter : e\n",
      "Current Letter : t\n",
      "Current Letter : r\n",
      "Current Letter : n\n"
     ]
    }
   ],
   "source": [
    "for letter in 'Petron':     # First Example\n",
    "   if letter == 'o':\n",
    "      continue\n",
    "   print ('Current Letter :', letter)"
   ]
  },
  {
   "cell_type": "raw",
   "id": "06ed9feb",
   "metadata": {},
   "source": [
    "7.What are Dict and List comprehensions? Give atleast one example(code)"
   ]
  },
  {
   "cell_type": "code",
   "execution_count": 6,
   "id": "9bbf3ac6",
   "metadata": {},
   "outputs": [
    {
     "data": {
      "text/plain": [
       "dict_keys(['a', 'b', 'c', 'd'])"
      ]
     },
     "execution_count": 6,
     "metadata": {},
     "output_type": "execute_result"
    }
   ],
   "source": [
    "dict1 = {'a': 1, 'b': 2, 'c': 3, 'd': 4}\n",
    "# Put all keys of `dict1` in a list and returns the list\n",
    "dict1.keys()\n"
   ]
  },
  {
   "cell_type": "code",
   "execution_count": null,
   "id": "72b0c6e1",
   "metadata": {},
   "outputs": [],
   "source": []
  },
  {
   "cell_type": "raw",
   "id": "af7a43ae",
   "metadata": {},
   "source": [
    "8.How do you create a class in Python?"
   ]
  },
  {
   "cell_type": "code",
   "execution_count": 7,
   "id": "61b4e40f",
   "metadata": {},
   "outputs": [
    {
     "name": "stdout",
     "output_type": "stream",
     "text": [
      "John\n",
      "36\n"
     ]
    }
   ],
   "source": [
    "class Person:\n",
    "  def __init__(self, name, age):\n",
    "    self.name = name\n",
    "    self.age = age\n",
    "p1 = Person(\"John\", 36)\n",
    "\n",
    "print(p1.name)\n",
    "print(p1.age)"
   ]
  },
  {
   "cell_type": "raw",
   "id": "5eff5232",
   "metadata": {},
   "source": [
    "9.What is inheritance ?Give  one example "
   ]
  },
  {
   "cell_type": "code",
   "execution_count": 10,
   "id": "7ee6a0c4",
   "metadata": {},
   "outputs": [
    {
     "name": "stdout",
     "output_type": "stream",
     "text": [
      "This is Spain\n",
      "This is State\n"
     ]
    }
   ],
   "source": [
    "class Country:\n",
    "\n",
    "     def ShowCountry(self):\n",
    "\n",
    "         print(\"This is Spain\");\n",
    "\n",
    "class State(Country):\n",
    "\n",
    "     def ShowState(self):\n",
    "\n",
    "         print(\"This is State\");\n",
    "st =State()\n",
    "\n",
    "st.ShowCountry()\n",
    "\n",
    "st.ShowState()        "
   ]
  },
  {
   "cell_type": "raw",
   "id": "e621bf99",
   "metadata": {},
   "source": [
    "10.What is polymorphism? Give one example"
   ]
  },
  {
   "cell_type": "code",
   "execution_count": 11,
   "id": "b285e203",
   "metadata": {},
   "outputs": [
    {
     "name": "stdout",
     "output_type": "stream",
     "text": [
      "5\n",
      "9\n"
     ]
    }
   ],
   "source": [
    "# A simple Python function to display\n",
    "# Polymorphism\n",
    " \n",
    "def add(x, y, z = 0):\n",
    "    return x + y+z\n",
    " \n",
    "# Driver code\n",
    "print(add(2, 3))\n",
    "print(add(2, 3, 4))"
   ]
  },
  {
   "cell_type": "raw",
   "id": "d7fc35ee",
   "metadata": {},
   "source": [
    "11.Difference between multilevel and multiple inheritance?"
   ]
  },
  {
   "cell_type": "code",
   "execution_count": 52,
   "id": "1e8058c7",
   "metadata": {},
   "outputs": [
    {
     "name": "stdout",
     "output_type": "stream",
     "text": [
      "Father : vijay\n",
      "Mother : anjali\n"
     ]
    }
   ],
   "source": [
    "#Python program to demonstrate\n",
    "# multiple inheritance\n",
    " \n",
    "# Base class1\n",
    "class Mother:\n",
    "    mothername = \"\"\n",
    " \n",
    "    def mother(self):\n",
    "        print(self.mothername)\n",
    "#Base class2\n",
    " \n",
    "class Father:\n",
    "    fathername = \"\"\n",
    " \n",
    "    def father(self):\n",
    "        print(self.fathername)\n",
    " #Derived class\n",
    " \n",
    "class Son(Mother, Father):\n",
    "    def parents(self):\n",
    "        print(\"Father :\", self.fathername)\n",
    "        print(\"Mother :\", self.mothername)\n",
    " \n",
    " \n",
    "\n",
    "s1 = Son()\n",
    "s1.fathername = \"vijay\"\n",
    "s1.mothername = \"anjali\"\n",
    "s1.parents()"
   ]
  },
  {
   "cell_type": "code",
   "execution_count": 51,
   "id": "ccdf499b",
   "metadata": {},
   "outputs": [
    {
     "name": "stdout",
     "output_type": "stream",
     "text": [
      "raj\n",
      "Grandfather name : raj\n",
      "Father name : pushapk\n",
      "Son name : ketan\n"
     ]
    }
   ],
   "source": [
    "# Python program to demonstrate\n",
    "# multilevel inheritance\n",
    " \n",
    "# Base class\n",
    " \n",
    "class Grandfather:\n",
    " \n",
    "    def __init__(self, grandfathername):\n",
    "        self.grandfathername = grandfathername\n",
    "\n",
    "class Father(Grandfather):\n",
    "    def __init__(self, fathername, grandfathername):\n",
    "        self.fathername = fathername\n",
    " \n",
    "        \n",
    "        Grandfather.__init__(self, grandfathername)\n",
    " \n",
    "\n",
    " \n",
    "class Son(Father):\n",
    "    def __init__(self, sonname, fathername, grandfathername):\n",
    "        self.sonname = sonname\n",
    " \n",
    "        \n",
    "        Father.__init__(self, fathername, grandfathername)\n",
    " \n",
    "    def print_name(self):\n",
    "        print('Grandfather name :', self.grandfathername)\n",
    "        print(\"Father name :\", self.fathername)\n",
    "        print(\"Son name :\", self.sonname)\n",
    " \n",
    " \n",
    "\n",
    "s1 = Son('ketan', 'pushapk', 'raj')\n",
    "print(s1.grandfathername)\n",
    "s1.print_name()"
   ]
  },
  {
   "cell_type": "raw",
   "id": "4cbc99c0",
   "metadata": {},
   "source": [
    "12.Create a 1D,2D and 3D array?"
   ]
  },
  {
   "cell_type": "code",
   "execution_count": 16,
   "id": "3622f4a6",
   "metadata": {},
   "outputs": [
    {
     "name": "stdout",
     "output_type": "stream",
     "text": [
      "1D array is :  [1 2 4]\n",
      "2D array is :  [[1 2 3]\n",
      " [4 5 6]]\n",
      "3D array is :  [[[1 2 3]\n",
      "  [4 5 6]\n",
      "  [7 8 9]]]\n"
     ]
    }
   ],
   "source": [
    "#1D array :\n",
    "import numpy as np\n",
    "one_dimensional_list = [1,2,4]\n",
    "one_dimensional_arr = np.array(one_dimensional_list)\n",
    "print(\"1D array is : \",one_dimensional_arr)\n",
    " \n",
    "#2D array:\n",
    "\n",
    "two_dimensional_list=[[1,2,3],[4,5,6]]\n",
    "two_dimensional_arr = np.array(two_dimensional_list)\n",
    "print(\"2D array is : \",two_dimensional_arr)\n",
    " \n",
    "#3D array:\n",
    "\n",
    "three_dimensional_list=[[[1,2,3],[4,5,6],[7,8,9]]]\n",
    "three_dimensional_arr = np.array(three_dimensional_list)\n",
    "print(\"3D array is : \",three_dimensional_arr)"
   ]
  },
  {
   "cell_type": "raw",
   "id": "971f39b4",
   "metadata": {},
   "source": [
    "13.How will you reverse the numpy array using one line of code?"
   ]
  },
  {
   "cell_type": "code",
   "execution_count": 22,
   "id": "908a8f5d",
   "metadata": {},
   "outputs": [
    {
     "name": "stdout",
     "output_type": "stream",
     "text": [
      "[5 4 3 2 1]\n"
     ]
    }
   ],
   "source": [
    "arr= np.array([1,2,3,4,5])\n",
    "reverse_arr=arr[::-1]\n",
    "print(reverse_arr)"
   ]
  },
  {
   "cell_type": "raw",
   "id": "d87f6616",
   "metadata": {},
   "source": [
    "14.What advantages do NumPy arrays offer over  Python lists?\n"
   ]
  },
  {
   "cell_type": "code",
   "execution_count": null,
   "id": "2fd2e6c6",
   "metadata": {},
   "outputs": [],
   "source": [
    "numpy array provides to do mathematical operation in array\n",
    "numpy array is faster than list.\n",
    "list does not provide to do mathematical beacuse it conatins the all types of datatyeps in it.\n",
    "list does not provide large no of items in it.\n",
    "but numpy array provide large no of itams in it."
   ]
  },
  {
   "cell_type": "raw",
   "id": "3461a610",
   "metadata": {},
   "source": [
    "15.python3 code to print the below pattern\n",
    "\n",
    "*\n",
    "**\n",
    "***"
   ]
  },
  {
   "cell_type": "code",
   "execution_count": 23,
   "id": "cc59fb95",
   "metadata": {},
   "outputs": [
    {
     "name": "stdout",
     "output_type": "stream",
     "text": [
      "*\n",
      "**\n",
      "***\n"
     ]
    }
   ],
   "source": [
    "for i in range(1,4):\n",
    "    print('*'*i)"
   ]
  },
  {
   "cell_type": "markdown",
   "id": "a0bc01f6",
   "metadata": {},
   "source": [
    "## PART C (Exploratory data analysis)"
   ]
  },
  {
   "cell_type": "raw",
   "id": "fe95eaca",
   "metadata": {},
   "source": [
    "16.Draw insights from the dataset provided using suitable visualization libraries.(6*4 = 24)\n",
    "\n",
    "\n",
    "\n",
    "1.Load the \"Diamonds dataset \" from seaborn library\n",
    "\n",
    "Dataset desciption:\n",
    "(carat: weight of the diamond\n",
    "cut: (Fair, Good, Very Good, Premium, Ideal) ordinal\n",
    "color: J (worst) to D (best) ordinal\n",
    "clarity: [I1 (worst), SI2, SI1, VS2, VS1, VVS2, VVS1, IF (best)]\n",
    "depth: z / (mean(x,y)) = 2*z / (x+y) in percentage\n",
    "table: percentage of width on the top relative to width\n",
    "price: given in US Dollars\n",
    "x: length in mm\n",
    "y: width in mm\n",
    "z: depth in mm)\n",
    "\n",
    "2.Which column has highest correlation with the target variable?(Graphs)\n",
    "\n",
    "3.Find the outliers in each column?Use suitable graphs\n",
    "\n",
    "4.what is the count of premium diamonds in the dataset?\n",
    "\n",
    "5.What is the average price of diamonds?\n",
    "\n",
    "6.Create a new column called \"size = x*y*z"
   ]
  },
  {
   "cell_type": "code",
   "execution_count": 25,
   "id": "4f054230",
   "metadata": {},
   "outputs": [],
   "source": [
    "import numpy as np\n",
    "import pandas as pd\n",
    "import matplotlib.pyplot as plt \n",
    "import seaborn as sns"
   ]
  },
  {
   "cell_type": "code",
   "execution_count": 26,
   "id": "4e11b426",
   "metadata": {},
   "outputs": [],
   "source": [
    "import seaborn as sns\n",
    "\n",
    "df = sns.load_dataset('diamonds')\n"
   ]
  },
  {
   "cell_type": "code",
   "execution_count": 27,
   "id": "057600f4",
   "metadata": {},
   "outputs": [
    {
     "data": {
      "text/html": [
       "<div>\n",
       "<style scoped>\n",
       "    .dataframe tbody tr th:only-of-type {\n",
       "        vertical-align: middle;\n",
       "    }\n",
       "\n",
       "    .dataframe tbody tr th {\n",
       "        vertical-align: top;\n",
       "    }\n",
       "\n",
       "    .dataframe thead th {\n",
       "        text-align: right;\n",
       "    }\n",
       "</style>\n",
       "<table border=\"1\" class=\"dataframe\">\n",
       "  <thead>\n",
       "    <tr style=\"text-align: right;\">\n",
       "      <th></th>\n",
       "      <th>carat</th>\n",
       "      <th>cut</th>\n",
       "      <th>color</th>\n",
       "      <th>clarity</th>\n",
       "      <th>depth</th>\n",
       "      <th>table</th>\n",
       "      <th>price</th>\n",
       "      <th>x</th>\n",
       "      <th>y</th>\n",
       "      <th>z</th>\n",
       "    </tr>\n",
       "  </thead>\n",
       "  <tbody>\n",
       "    <tr>\n",
       "      <th>0</th>\n",
       "      <td>0.23</td>\n",
       "      <td>Ideal</td>\n",
       "      <td>E</td>\n",
       "      <td>SI2</td>\n",
       "      <td>61.5</td>\n",
       "      <td>55.0</td>\n",
       "      <td>326</td>\n",
       "      <td>3.95</td>\n",
       "      <td>3.98</td>\n",
       "      <td>2.43</td>\n",
       "    </tr>\n",
       "    <tr>\n",
       "      <th>1</th>\n",
       "      <td>0.21</td>\n",
       "      <td>Premium</td>\n",
       "      <td>E</td>\n",
       "      <td>SI1</td>\n",
       "      <td>59.8</td>\n",
       "      <td>61.0</td>\n",
       "      <td>326</td>\n",
       "      <td>3.89</td>\n",
       "      <td>3.84</td>\n",
       "      <td>2.31</td>\n",
       "    </tr>\n",
       "    <tr>\n",
       "      <th>2</th>\n",
       "      <td>0.23</td>\n",
       "      <td>Good</td>\n",
       "      <td>E</td>\n",
       "      <td>VS1</td>\n",
       "      <td>56.9</td>\n",
       "      <td>65.0</td>\n",
       "      <td>327</td>\n",
       "      <td>4.05</td>\n",
       "      <td>4.07</td>\n",
       "      <td>2.31</td>\n",
       "    </tr>\n",
       "    <tr>\n",
       "      <th>3</th>\n",
       "      <td>0.29</td>\n",
       "      <td>Premium</td>\n",
       "      <td>I</td>\n",
       "      <td>VS2</td>\n",
       "      <td>62.4</td>\n",
       "      <td>58.0</td>\n",
       "      <td>334</td>\n",
       "      <td>4.20</td>\n",
       "      <td>4.23</td>\n",
       "      <td>2.63</td>\n",
       "    </tr>\n",
       "    <tr>\n",
       "      <th>4</th>\n",
       "      <td>0.31</td>\n",
       "      <td>Good</td>\n",
       "      <td>J</td>\n",
       "      <td>SI2</td>\n",
       "      <td>63.3</td>\n",
       "      <td>58.0</td>\n",
       "      <td>335</td>\n",
       "      <td>4.34</td>\n",
       "      <td>4.35</td>\n",
       "      <td>2.75</td>\n",
       "    </tr>\n",
       "  </tbody>\n",
       "</table>\n",
       "</div>"
      ],
      "text/plain": [
       "   carat      cut color clarity  depth  table  price     x     y     z\n",
       "0   0.23    Ideal     E     SI2   61.5   55.0    326  3.95  3.98  2.43\n",
       "1   0.21  Premium     E     SI1   59.8   61.0    326  3.89  3.84  2.31\n",
       "2   0.23     Good     E     VS1   56.9   65.0    327  4.05  4.07  2.31\n",
       "3   0.29  Premium     I     VS2   62.4   58.0    334  4.20  4.23  2.63\n",
       "4   0.31     Good     J     SI2   63.3   58.0    335  4.34  4.35  2.75"
      ]
     },
     "execution_count": 27,
     "metadata": {},
     "output_type": "execute_result"
    }
   ],
   "source": [
    "df.head()\n"
   ]
  },
  {
   "cell_type": "code",
   "execution_count": 29,
   "id": "28a4c119",
   "metadata": {},
   "outputs": [
    {
     "data": {
      "text/html": [
       "<div>\n",
       "<style scoped>\n",
       "    .dataframe tbody tr th:only-of-type {\n",
       "        vertical-align: middle;\n",
       "    }\n",
       "\n",
       "    .dataframe tbody tr th {\n",
       "        vertical-align: top;\n",
       "    }\n",
       "\n",
       "    .dataframe thead th {\n",
       "        text-align: right;\n",
       "    }\n",
       "</style>\n",
       "<table border=\"1\" class=\"dataframe\">\n",
       "  <thead>\n",
       "    <tr style=\"text-align: right;\">\n",
       "      <th></th>\n",
       "      <th>carat</th>\n",
       "      <th>depth</th>\n",
       "      <th>table</th>\n",
       "      <th>price</th>\n",
       "      <th>x</th>\n",
       "      <th>y</th>\n",
       "      <th>z</th>\n",
       "    </tr>\n",
       "  </thead>\n",
       "  <tbody>\n",
       "    <tr>\n",
       "      <th>count</th>\n",
       "      <td>53940.000000</td>\n",
       "      <td>53940.000000</td>\n",
       "      <td>53940.000000</td>\n",
       "      <td>53940.000000</td>\n",
       "      <td>53940.000000</td>\n",
       "      <td>53940.000000</td>\n",
       "      <td>53940.000000</td>\n",
       "    </tr>\n",
       "    <tr>\n",
       "      <th>mean</th>\n",
       "      <td>0.797940</td>\n",
       "      <td>61.749405</td>\n",
       "      <td>57.457184</td>\n",
       "      <td>3932.799722</td>\n",
       "      <td>5.731157</td>\n",
       "      <td>5.734526</td>\n",
       "      <td>3.538734</td>\n",
       "    </tr>\n",
       "    <tr>\n",
       "      <th>std</th>\n",
       "      <td>0.474011</td>\n",
       "      <td>1.432621</td>\n",
       "      <td>2.234491</td>\n",
       "      <td>3989.439738</td>\n",
       "      <td>1.121761</td>\n",
       "      <td>1.142135</td>\n",
       "      <td>0.705699</td>\n",
       "    </tr>\n",
       "    <tr>\n",
       "      <th>min</th>\n",
       "      <td>0.200000</td>\n",
       "      <td>43.000000</td>\n",
       "      <td>43.000000</td>\n",
       "      <td>326.000000</td>\n",
       "      <td>0.000000</td>\n",
       "      <td>0.000000</td>\n",
       "      <td>0.000000</td>\n",
       "    </tr>\n",
       "    <tr>\n",
       "      <th>25%</th>\n",
       "      <td>0.400000</td>\n",
       "      <td>61.000000</td>\n",
       "      <td>56.000000</td>\n",
       "      <td>950.000000</td>\n",
       "      <td>4.710000</td>\n",
       "      <td>4.720000</td>\n",
       "      <td>2.910000</td>\n",
       "    </tr>\n",
       "    <tr>\n",
       "      <th>50%</th>\n",
       "      <td>0.700000</td>\n",
       "      <td>61.800000</td>\n",
       "      <td>57.000000</td>\n",
       "      <td>2401.000000</td>\n",
       "      <td>5.700000</td>\n",
       "      <td>5.710000</td>\n",
       "      <td>3.530000</td>\n",
       "    </tr>\n",
       "    <tr>\n",
       "      <th>75%</th>\n",
       "      <td>1.040000</td>\n",
       "      <td>62.500000</td>\n",
       "      <td>59.000000</td>\n",
       "      <td>5324.250000</td>\n",
       "      <td>6.540000</td>\n",
       "      <td>6.540000</td>\n",
       "      <td>4.040000</td>\n",
       "    </tr>\n",
       "    <tr>\n",
       "      <th>max</th>\n",
       "      <td>5.010000</td>\n",
       "      <td>79.000000</td>\n",
       "      <td>95.000000</td>\n",
       "      <td>18823.000000</td>\n",
       "      <td>10.740000</td>\n",
       "      <td>58.900000</td>\n",
       "      <td>31.800000</td>\n",
       "    </tr>\n",
       "  </tbody>\n",
       "</table>\n",
       "</div>"
      ],
      "text/plain": [
       "              carat         depth         table         price             x  \\\n",
       "count  53940.000000  53940.000000  53940.000000  53940.000000  53940.000000   \n",
       "mean       0.797940     61.749405     57.457184   3932.799722      5.731157   \n",
       "std        0.474011      1.432621      2.234491   3989.439738      1.121761   \n",
       "min        0.200000     43.000000     43.000000    326.000000      0.000000   \n",
       "25%        0.400000     61.000000     56.000000    950.000000      4.710000   \n",
       "50%        0.700000     61.800000     57.000000   2401.000000      5.700000   \n",
       "75%        1.040000     62.500000     59.000000   5324.250000      6.540000   \n",
       "max        5.010000     79.000000     95.000000  18823.000000     10.740000   \n",
       "\n",
       "                  y             z  \n",
       "count  53940.000000  53940.000000  \n",
       "mean       5.734526      3.538734  \n",
       "std        1.142135      0.705699  \n",
       "min        0.000000      0.000000  \n",
       "25%        4.720000      2.910000  \n",
       "50%        5.710000      3.530000  \n",
       "75%        6.540000      4.040000  \n",
       "max       58.900000     31.800000  "
      ]
     },
     "execution_count": 29,
     "metadata": {},
     "output_type": "execute_result"
    }
   ],
   "source": [
    "df.describe()"
   ]
  },
  {
   "cell_type": "code",
   "execution_count": 32,
   "id": "9102a000",
   "metadata": {},
   "outputs": [
    {
     "data": {
      "image/png": "[encoded data removed]",
      "text/plain": [
       "<Figure size 1000x600 with 1 Axes>"
      ]
     },
     "metadata": {},
     "output_type": "display_data"
    },
    {
     "data": {
      "image/png": "[encoded data removed]",
      "text/plain": [
       "<Figure size 1000x800 with 2 Axes>"
      ]
     },
     "metadata": {},
     "output_type": "display_data"
    }
   ],
   "source": [
    "# 2.Which column has highest correlation with the target variable?(Graphs)\n",
    "\n",
    "\n",
    "correlations = df.corr()\n",
    "\n",
    "# Sort the correlations with the target variable in descending order\n",
    "target_correlations = correlations['price'].sort_values(ascending=False)\n",
    "\n",
    "plt.figure(figsize=(10, 6))\n",
    "sns.barplot(x=target_correlations.values, y=target_correlations.index, orient='h')\n",
    "plt.xlabel('Correlation')\n",
    "plt.ylabel('Feature')\n",
    "plt.title('Correlation with Price')\n",
    "plt.show()\n",
    "\n",
    "# Create a heatmap of correlations\n",
    "plt.figure(figsize=(10, 8))\n",
    "sns.heatmap(correlations, annot=True, cmap='coolwarm')\n",
    "plt.title('Correlation Matrix')\n",
    "plt.show()"
   ]
  },
  {
   "cell_type": "code",
   "execution_count": 41,
   "id": "b7586737",
   "metadata": {},
   "outputs": [
    {
     "data": {
      "image/png": "[encoded data removed]",
      "text/plain": [
       "<Figure size 800x600 with 1 Axes>"
      ]
     },
     "metadata": {},
     "output_type": "display_data"
    },
    {
     "data": {
      "image/png": "[encoded data removed]",
      "text/plain": [
       "<Figure size 800x600 with 1 Axes>"
      ]
     },
     "metadata": {},
     "output_type": "display_data"
    }
   ],
   "source": [
    "\n",
    "#3.Find the outliers in each column?Use suitable graphs\n",
    "\n",
    "\n",
    "\n",
    "# Create a box plot for \"carat\" column\n",
    "plt.figure(figsize=(8, 6))\n",
    "sns.boxplot(x=df['carat'])\n",
    "plt.title('Box Plot - Carat')\n",
    "plt.show()\n",
    "\n",
    "# Create a box plot for \"price\" column\n",
    "plt.figure(figsize=(8, 6))\n",
    "sns.boxplot(x=df['price'])\n",
    "plt.title('Box Plot - Price')\n",
    "plt.show()\n"
   ]
  },
  {
   "cell_type": "code",
   "execution_count": 40,
   "id": "a353af96",
   "metadata": {},
   "outputs": [
    {
     "name": "stdout",
     "output_type": "stream",
     "text": [
      "Count of Premium Diamonds: 13791\n"
     ]
    }
   ],
   "source": [
    "#4.what is the count of premium diamonds in the dataset?\n",
    "# Count the occurrences of \"Premium\" cut diamonds\n",
    "premium_count = df[df['cut'] == 'Premium'].shape[0]\n",
    "print(\"Count of Premium Diamonds:\", premium_count)\n"
   ]
  },
  {
   "cell_type": "code",
   "execution_count": 43,
   "id": "d909cd3d",
   "metadata": {},
   "outputs": [
    {
     "name": "stdout",
     "output_type": "stream",
     "text": [
      "Average Price of Diamonds: 3932.799721913237\n"
     ]
    }
   ],
   "source": [
    "\n",
    "# 5.What is the average price of diamonds?\n",
    "avg_price = df['price'].mean()\n",
    "print(\"Average Price of Diamonds:\", avg_price)"
   ]
  },
  {
   "cell_type": "code",
   "execution_count": 44,
   "id": "d04fca59",
   "metadata": {},
   "outputs": [
    {
     "name": "stdout",
     "output_type": "stream",
     "text": [
      "   carat      cut color clarity  depth  table  price     x     y     z  \\\n",
      "0   0.23    Ideal     E     SI2   61.5   55.0    326  3.95  3.98  2.43   \n",
      "1   0.21  Premium     E     SI1   59.8   61.0    326  3.89  3.84  2.31   \n",
      "2   0.23     Good     E     VS1   56.9   65.0    327  4.05  4.07  2.31   \n",
      "3   0.29  Premium     I     VS2   62.4   58.0    334  4.20  4.23  2.63   \n",
      "4   0.31     Good     J     SI2   63.3   58.0    335  4.34  4.35  2.75   \n",
      "\n",
      "        size  \n",
      "0  38.202030  \n",
      "1  34.505856  \n",
      "2  38.076885  \n",
      "3  46.724580  \n",
      "4  51.917250  \n"
     ]
    }
   ],
   "source": [
    "df['size'] = df['x'] * df['y'] * df['z']\n",
    "\n",
    "# Print the updated DataFrame\n",
    "print(df.head())"
   ]
  },
  {
   "cell_type": "code",
   "execution_count": null,
   "id": "16f3c7e1",
   "metadata": {},
   "outputs": [],
   "source": []
  }
 ],
 "metadata": {
  "kernelspec": {
   "display_name": "Python 3 (ipykernel)",
   "language": "python",
   "name": "python3"
  },
  "language_info": {
   "codemirror_mode": {
    "name": "ipython",
    "version": 3
   },
   "file_extension": ".py",
   "mimetype": "text/x-python",
   "name": "python",
   "nbconvert_exporter": "python",
   "pygments_lexer": "ipython3",
   "version": "3.9.13"
  }
 },
 "nbformat": 4,
 "nbformat_minor": 5
}
